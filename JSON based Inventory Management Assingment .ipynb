{
 "cells": [
  {
   "cell_type": "code",
   "execution_count": null,
   "metadata": {},
   "outputs": [],
   "source": [
    "# INVENTORY MANAGEMENT ASSINGMENT BASED ON JSON.\n",
    "# There are 30 produts and 5 attributes\n",
    "#Operations performed:1)read data from json, 2)add new items to inventory, 3)purchase information,4) update inventory after purchase"
   ]
  },
  {
   "cell_type": "code",
   "execution_count": 2,
   "metadata": {
    "id": "MfzJwgt_hS_W"
   },
   "outputs": [],
   "source": [
    "record = {\n",
    "    1:{\"prod_name\":\"Samsung\",\"prod_category\":\"mobile\",\"prod_qunatity\":50,\"prod_price\":6000,\"purchase_date\":\"20-12-2020\"},\n",
    "    2:{\"prod_name\":\"Nokia\",\"prod_category\":\"mobile\",\"prod_qunatity\":35,\"prod_price\":7000,\"purchase_date\":\"30-04-2021\"},\n",
    "    3:{\"prod_name\":\"MI\",\"prod_category\":\"mobile\",\"prod_qunatity\":70,\"prod_price\":5000,\"purchase_date\":\"06-07-2021\"},\n",
    "    4:{\"prod_name\":\"RealME\",\"prod_category\":\"mobile\",\"prod_qunatity\":46,\"prod_price\":14000,\"purchase_date\":\"20-10-2021\"},\n",
    "    5:{\"prod_name\":\"Apple\",\"prod_category\":\"mobile\",\"prod_qunatity\":42,\"prod_price\":12000,\"purchase_date\":\"21-03-2021\"},\n",
    "    6:{\"prod_name\":\"Blackberry\",\"prod_category\":\"mobile\",\"prod_qunatity\":66,\"prod_price\":15000,\"purchase_date\":\"12-04-2021\"},\n",
    "    7:{\"prod_name\":\"Oneplus\",\"prod_category\":\"mobile\",\"prod_qunatity\":92,\"prod_price\":10000,\"purchase_date\":\"17-05-2021\"},\n",
    "    8:{\"prod_name\":\"Moto\",\"prod_category\":\"mobile\",\"prod_qunatity\":37,\"prod_price\":8000,\"purchase_date\":\"19-04-2021\"},\n",
    "    9:{\"prod_name\":\"Lenovo\",\"prod_category\":\"mobile\",\"prod_qunatity\":88,\"prod_price\":4500,\"purchase_date\":\"13-06-2021\"},\n",
    "    10:{\"prod_name\":\"Asus\",\"prod_category\":\"mobile\",\"prod_qunatity\":53,\"prod_price\":8900,\"purchase_date\":\"15-07-2021\"},\n",
    "    11:{\"prod_name\":\"Honor\",\"prod_category\":\"mobile\",\"prod_qunatity\":40,\"prod_price\":8900,\"purchase_date\":\"11-04-2021\"},\n",
    "    12:{\"prod_name\":\"Acer\",\"prod_category\":\"laptop\",\"prod_qunatity\":77,\"prod_price\":67200,\"purchase_date\":\"18-01-2021\"},\n",
    "    13:{\"prod_name\":\"ROG\",\"prod_category\":\"laptop\",\"prod_qunatity\":40,\"prod_price\":41267,\"purchase_date\":\"16-09-2021\"},\n",
    "    14:{\"prod_name\":\"HP\",\"prod_category\":\"laptop\",\"prod_qunatity\":43,\"prod_price\":53799,\"purchase_date\":\"29-01-2021\"},\n",
    "    15:{\"prod_name\":\"Lenovo\",\"prod_category\":\"laptop\",\"prod_qunatity\":55,\"prod_price\":45670,\"purchase_date\":\"20-12-2020\"},\n",
    "    16:{\"prod_name\":\"Macbook\",\"prod_category\":\"laptop\",\"prod_qunatity\":88,\"prod_price\":78900,\"purchase_date\":\"01-08-2021\"},\n",
    "    17:{\"prod_name\":\"Dell\",\"prod_category\":\"laptop\",\"prod_qunatity\":27,\"prod_price\":34500,\"purchase_date\":\"03-09-2021\"},\n",
    "    18:{\"prod_name\":\"MSI\",\"prod_category\":\"laptop\",\"prod_qunatity\":40,\"prod_price\":45600,\"purchase_date\":\"01-09-2021\"},\n",
    "    19:{\"prod_name\":\"Sansui\",\"prod_category\":\"tv\",\"prod_qunatity\":90,\"prod_price\":45000,\"purchase_date\":\"08-02-2021\"},\n",
    "    20:{\"prod_name\":\"Videocon\",\"prod_category\":\"tv\",\"prod_qunatity\":33,\"prod_price\":32000,\"purchase_date\":\"20-04-2021\"},\n",
    "    21:{\"prod_name\":\"Motorola\",\"prod_category\":\"tv\",\"prod_qunatity\":60,\"prod_price\":56000,\"purchase_date\":\"20-09-2021\"},\n",
    "    22:{\"prod_name\":\"Phillips\",\"prod_category\":\"tv\",\"prod_qunatity\":83,\"prod_price\":46000,\"purchase_date\":\"10-08-2021\"},\n",
    "    23:{\"prod_name\":\"Oneplus\",\"prod_category\":\"tv\",\"prod_qunatity\":76,\"prod_price\":80000,\"purchase_date\":\"28-05-2021\"},\n",
    "    24:{\"prod_name\":\"Samsung\",\"prod_category\":\"tv\",\"prod_qunatity\":49,\"prod_price\":33000,\"purchase_date\":\"29-10-2020\"},\n",
    "    25:{\"prod_name\":\"Sony\",\"prod_category\":\"tv\",\"prod_qunatity\":92,\"prod_price\":41000,\"purchase_date\":\"30-07-2021\"},\n",
    "    26:{\"prod_name\":\"Nokia\",\"prod_category\":\"tv\",\"prod_qunatity\":74,\"prod_price\":26000,\"purchase_date\":\"27-03-2021\"},\n",
    "    27:{\"prod_name\":\"Panasonic\",\"prod_category\":\"tv\",\"prod_qunatity\":65,\"prod_price\":30000,\"purchase_date\":\"25-11-2020\"},\n",
    "    28:{\"prod_name\":\"Onida\",\"prod_category\":\"tv\",\"prod_qunatity\":100,\"prod_price\":42000,\"purchase_date\":\"20-06-2021\"},\n",
    "    29:{\"prod_name\":\"Micromax\",\"prod_category\":\"tv\",\"prod_qunatity\":40,\"prod_price\":37000,\"purchase_date\":\"02-02-2021\"},\n",
    "    30:{\"prod_name\":\"Llyod\",\"prod_category\":\"tv\",\"prod_qunatity\":50,\"prod_price\":40000,\"purchase_date\":\"07-08-2020\"},\n",
    "\n",
    "}"
   ]
  },
  {
   "cell_type": "code",
   "execution_count": 3,
   "metadata": {
    "id": "axl6uygVcM78"
   },
   "outputs": [],
   "source": [
    "import json\n",
    "js = json.dumps(record)\n",
    "fd = open('record.json','w')\n",
    "fd.write(js)\n",
    "fd.close()"
   ]
  },
  {
   "cell_type": "markdown",
   "metadata": {},
   "source": [
    "# Read Data From JSON"
   ]
  },
  {
   "cell_type": "code",
   "execution_count": 4,
   "metadata": {
    "id": "Iy8dPe3hUert"
   },
   "outputs": [],
   "source": [
    "fd = open('record.json','r')\n",
    "r = fd.read()\n",
    "fd.close()"
   ]
  },
  {
   "cell_type": "code",
   "execution_count": 5,
   "metadata": {},
   "outputs": [],
   "source": [
    "record=json.loads(r)\n"
   ]
  },
  {
   "cell_type": "code",
   "execution_count": null,
   "metadata": {},
   "outputs": [],
   "source": [
    "record"
   ]
  },
  {
   "cell_type": "markdown",
   "metadata": {},
   "source": [
    "# Add New Items Into Inventory"
   ]
  },
  {
   "cell_type": "code",
   "execution_count": null,
   "metadata": {
    "colab": {
     "base_uri": "https://localhost:8080/"
    },
    "id": "ojQd6HYyZadc",
    "outputId": "fca9934c-c726-424c-9f15-8ccc897ac24c"
   },
   "outputs": [],
   "source": [
    "print(\"*************************************************\")\n",
    "prod_id = str(input(\"Enter the product id: \"))\n",
    "print(\"_________________________________________________\")\n",
    "prod_name = str(input(\"Enter the product name :\"))\n",
    "print(\"_________________________________________________\")\n",
    "prod_category = str(input(\"Enter the product category: \"))\n",
    "print(\"_________________________________________________\")\n",
    "prod_qunatity = int(input(\"Enter the product qunatity :\"))\n",
    "print(\"_________________________________________________\")\n",
    "prod_price = int(input(\"Enter the product price: \"))\n",
    "print(\"_________________________________________________\")\n",
    "purchase_date = str(input(\"Enter the purchase date: \"))\n",
    "print(\"                                                 \")\n",
    "print(\"*************************************************\")\n",
    "\n",
    "\n",
    "\n",
    "record[prod_id] = {'prod_name':prod_name,'prod_category':prod_category,'prod_qunatity':prod_qunatity,'prod_price':prod_price,'purchase_date'\n",
    ":purchase_date}\n",
    "\n",
    "import json\n",
    "js = json.dumps(record)\n",
    "fd = open('record.json','w')\n",
    "fd.write(js)\n",
    "fd.close()"
   ]
  },
  {
   "cell_type": "markdown",
   "metadata": {},
   "source": [
    "# Purchase information"
   ]
  },
  {
   "cell_type": "code",
   "execution_count": null,
   "metadata": {
    "colab": {
     "base_uri": "https://localhost:8080/"
    },
    "id": "kFEIHGWZa7Ua",
    "outputId": "a8fe3a36-42fb-4c70-ede8-dcd6af51049c"
   },
   "outputs": [],
   "source": [
    "print(\"*******************************************************\")\n",
    "prod_id = str(input(\"Enter the product id :\"))\n",
    "print(\"_______________________________________________________\")\n",
    "prod_qunat = int(input(\"Enter the product qunatity: \"))\n",
    "print(\"_______________________________________________________\")\n",
    "print(record[prod_id]['prod_qunatity'])\n",
    "\n",
    "print(\"********************************************************\")\n",
    "print(\"Prodcuct:\",record[prod_id]['prod_name'])\n",
    "print(\"--------------------------------------------------------\")\n",
    "print(\"Price:\",record[prod_id]['prod_price'])\n",
    "print(\"--------------------------------------------------------\")\n",
    "print(\"Billing amount:\",record[prod_id]['prod_price'] * prod_qunat)\n",
    "print(\"********************************************************\")\n",
    "\n",
    "if (record[prod_id]['prod_qunatity'] != 0):\n",
    "    record[prod_id]['prod_qunatity']  = record[prod_id]['prod_qunatity'] - prod_qunat #UDATING THE LIST\n",
    "else:\n",
    "  print(\"Product is out of stock!!!!!\")\n",
    "\n",
    "\n"
   ]
  },
  {
   "cell_type": "markdown",
   "metadata": {},
   "source": [
    "# Update Inventory After Purchase"
   ]
  },
  {
   "cell_type": "code",
   "execution_count": null,
   "metadata": {
    "id": "F4zfG0ELbqmd"
   },
   "outputs": [],
   "source": [
    "js = json.dumps(record)\n",
    "fd = open('record.json','w')\n",
    "fd.write(js)\n",
    "fd.close()"
   ]
  },
  {
   "cell_type": "code",
   "execution_count": null,
   "metadata": {
    "id": "nqeqUeTHg0nM"
   },
   "outputs": [],
   "source": [
    "sales= {}\n",
    "\n",
    "sales[prod_id] = {'product':prod_id,'prod_qunat':prod_qunat,'amount':record[prod_id]['prod_price'] * prod_qunat}\n",
    "\n",
    "\n",
    "js = json.dumps(sales)\n",
    "fd = open('sales.json','w')\n",
    "fd.write(js)\n",
    "fd.close()\n"
   ]
  },
  {
   "cell_type": "code",
   "execution_count": null,
   "metadata": {},
   "outputs": [],
   "source": [
    "json.dumps(sales)"
   ]
  },
  {
   "cell_type": "code",
   "execution_count": null,
   "metadata": {
    "colab": {
     "base_uri": "https://localhost:8080/"
    },
    "id": "kaimCtmHlmzI",
    "outputId": "570ac037-6259-47c7-bffa-44b15504e3a6"
   },
   "outputs": [],
   "source": [
    "# from here u can see which product id is sold\n",
    "sales\n"
   ]
  },
  {
   "cell_type": "code",
   "execution_count": 27,
   "metadata": {},
   "outputs": [
    {
     "data": {
      "text/plain": [
       "1"
      ]
     },
     "execution_count": 27,
     "metadata": {},
     "output_type": "execute_result"
    }
   ],
   "source": [
    "\n"
   ]
  },
  {
   "cell_type": "code",
   "execution_count": null,
   "metadata": {
    "id": "ybxvsMGglrwo"
   },
   "outputs": [],
   "source": [
    "#now from here u can see the what is added in the record and what is remaining\n",
    "record"
   ]
  },
  {
   "cell_type": "code",
   "execution_count": null,
   "metadata": {
    "id": "Kxuju4qSmASm"
   },
   "outputs": [],
   "source": []
  },
  {
   "cell_type": "code",
   "execution_count": null,
   "metadata": {},
   "outputs": [],
   "source": []
  }
 ],
 "metadata": {
  "colab": {
   "collapsed_sections": [],
   "name": "Untitled1.ipynb",
   "provenance": []
  },
  "kernelspec": {
   "display_name": "Python 3",
   "language": "python",
   "name": "python3"
  },
  "language_info": {
   "codemirror_mode": {
    "name": "ipython",
    "version": 3
   },
   "file_extension": ".py",
   "mimetype": "text/x-python",
   "name": "python",
   "nbconvert_exporter": "python",
   "pygments_lexer": "ipython3",
   "version": "3.8.8"
  }
 },
 "nbformat": 4,
 "nbformat_minor": 1
}
